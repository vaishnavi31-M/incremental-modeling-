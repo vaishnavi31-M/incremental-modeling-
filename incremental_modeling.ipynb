{
  "nbformat": 4,
  "nbformat_minor": 0,
  "metadata": {
    "colab": {
      "provenance": [],
      "authorship_tag": "ABX9TyNbUOdokZKGPWutoyghm16s",
      "include_colab_link": true
    },
    "kernelspec": {
      "name": "python3",
      "display_name": "Python 3"
    },
    "language_info": {
      "name": "python"
    }
  },
  "cells": [
    {
      "cell_type": "markdown",
      "metadata": {
        "id": "view-in-github",
        "colab_type": "text"
      },
      "source": [
        "<a href=\"https://colab.research.google.com/github/vaishnavi31-M/incremental-modeling-/blob/main/incremental_modeling.ipynb\" target=\"_parent\"><img src=\"https://colab.research.google.com/assets/colab-badge.svg\" alt=\"Open In Colab\"/></a>"
      ]
    },
    {
      "cell_type": "markdown",
      "source": [
        "Implement incremental modeling* using the quadratic solution in stages: hard-coding variables keyboard input, read from a file, for a single set of input, multiple sets of inputs.\n",
        "\n",
        "a. save all versions, debug, fix problems, create a Github account\n",
        "\n",
        "Implementation outline for weather modeling using a quadratic solution. The approach evolves in stages:\n",
        "\n",
        "1.Hardcoding variables.\n",
        "\n",
        "2.Accepting variables via keyboard input.\n",
        "\n",
        "3.Reading variables from a file.\n",
        "\n",
        "4.Processing a single set of inputs.\n",
        "\n",
        "5.Processing multiple sets of inputs. At the end, you will save the versions, debug, fix issues, and push the project to GitHub.\n"
      ],
      "metadata": {
        "id": "9xsUDZrwf8ky"
      }
    },
    {
      "cell_type": "code",
      "execution_count": 8,
      "metadata": {
        "colab": {
          "base_uri": "https://localhost:8080/"
        },
        "id": "3talkYAQfz-y",
        "outputId": "9dcc5efc-a817-41d4-90bb-1bcfe256e473"
      },
      "outputs": [
        {
          "output_type": "stream",
          "name": "stdout",
          "text": [
            "\n",
            "Choose a stage:\n",
            "1. Hardcoded values\n",
            "2. Keyboard input\n",
            "3. Read from file\n",
            "4. Exit\n",
            "Enter your choice: 3\n",
            "Enter the filename containing values for a, b, c: input.txt\n",
            "Stage 3: Reading from file...\n",
            "Roots for a=1.0, b=3.0, c=2.0: (-1.0, -2.0)\n",
            "Roots for a=-2.0, b=5.0, c=1.0: (-0.18614066163450715, 2.686140661634507)\n",
            "Roots for a=4.0, b=-8.0, c=3.0: (1.5, 0.5)\n",
            "\n",
            "Choose a stage:\n",
            "1. Hardcoded values\n",
            "2. Keyboard input\n",
            "3. Read from file\n",
            "4. Exit\n",
            "Enter your choice: 2\n",
            "Stage 2: Input values for a, b, c\n",
            "Enter value for a: 8\n",
            "Enter value for b: 9\n",
            "Enter value for c: 4\n",
            "Roots for a=8.0, b=9.0, c=4.0: ((-0.5625+0.42847841252506524j), (-0.5625-0.42847841252506524j))\n",
            "\n",
            "Choose a stage:\n",
            "1. Hardcoded values\n",
            "2. Keyboard input\n",
            "3. Read from file\n",
            "4. Exit\n",
            "Enter your choice: 1\n",
            "Stage 1: Hardcoded values a=1, b=-3, c=2\n",
            "Roots: (2.0, 1.0)\n",
            "\n",
            "Choose a stage:\n",
            "1. Hardcoded values\n",
            "2. Keyboard input\n",
            "3. Read from file\n",
            "4. Exit\n",
            "Enter your choice: 4\n",
            "Exiting...\n"
          ]
        }
      ],
      "source": [
        "import math\n",
        "# Function to calculate the roots of the quadratic equation\n",
        "def calculate_roots(a, b, c):\n",
        "    discriminant = b**2 - 4*a*c\n",
        "    if discriminant > 0:\n",
        "        # Two real and distinct roots\n",
        "        root1 = (-b + math.sqrt(discriminant)) / (2*a)\n",
        "        root2 = (-b - math.sqrt(discriminant)) / (2*a)\n",
        "        return root1, root2\n",
        "    elif discriminant == 0:\n",
        "        # One real root (double root)\n",
        "        root = -b / (2*a)\n",
        "        return root,\n",
        "    else:\n",
        "        # Complex roots\n",
        "        real_part = -b / (2*a)\n",
        "        imaginary_part = math.sqrt(-discriminant) / (2*a)\n",
        "        root1 = complex(real_part, imaginary_part)\n",
        "        root2 = complex(real_part, -imaginary_part)\n",
        "        return root1, root2\n",
        "\n",
        "# Stage 1: Hardcoded values\n",
        "def stage1():\n",
        "    a = 1\n",
        "    b = -3\n",
        "    c = 2\n",
        "    print(f\"Stage 1: Hardcoded values a={a}, b={b}, c={c}\")\n",
        "    roots = calculate_roots(a, b, c)\n",
        "    print(\"Roots:\", roots)\n",
        "\n",
        "# Stage 2: Keyboard Input\n",
        "def stage2():\n",
        "    print(\"Stage 2: Input values for a, b, c\")\n",
        "    a = float(input(\"Enter value for a: \"))\n",
        "    b = float(input(\"Enter value for b: \"))\n",
        "    c = float(input(\"Enter value for c: \"))\n",
        "    roots = calculate_roots(a, b, c)\n",
        "    print(f\"Roots for a={a}, b={b}, c={c}:\", roots)\n",
        "\n",
        "# Stage 3: Read from a File\n",
        "def stage3():\n",
        "    filename = input(\"Enter the filename containing values for a, b, c: \")\n",
        "    try:\n",
        "        with open(filename, 'r') as file:\n",
        "            print(\"Stage 3: Reading from file...\")\n",
        "            for line in file:\n",
        "                values = line.strip().split(',')\n",
        "                if len(values) == 3:\n",
        "                    a, b, c = float(values[0]), float(values[1]), float(values[2])\n",
        "                    roots = calculate_roots(a, b, c)\n",
        "                    print(f\"Roots for a={a}, b={b}, c={c}:\", roots)\n",
        "                else:\n",
        "                    print(\"Skipping invalid line:\", line)\n",
        "    except FileNotFoundError:\n",
        "        print(f\"Error: File {filename} not found.\")\n",
        "\n",
        "# Main function to run the stages\n",
        "def main():\n",
        "    while True:\n",
        "        print(\"\\nChoose a stage:\")\n",
        "        print(\"1. Hardcoded values\")\n",
        "        print(\"2. Keyboard input\")\n",
        "        print(\"3. Read from file\")\n",
        "        print(\"4. Exit\")\n",
        "        choice = input(\"Enter your choice: \")\n",
        "\n",
        "        if choice == '1':\n",
        "            stage1()\n",
        "        elif choice == '2':\n",
        "            stage2()\n",
        "        elif choice == '3':\n",
        "            stage3()\n",
        "        elif choice == '4':\n",
        "            print(\"Exiting...\")\n",
        "            break\n",
        "        else:\n",
        "            print(\"Invalid choice, please try again.\")\n",
        "\n",
        "if __name__ == \"__main__\":\n",
        "    main()\n"
      ]
    }
  ]
}